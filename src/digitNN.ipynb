{
 "cells": [
  {
   "cell_type": "markdown",
   "source": [
    "# Handwritten digit recognition with neural networks"
   ],
   "metadata": {
    "collapsed": false
   },
   "id": "e0d57ab4bcb60b7b"
  },
  {
   "cell_type": "code",
   "outputs": [],
   "source": [
    "from pathlib import Path\n",
    "import os\n",
    "\n",
    "from numpy.typing import NDArray\n",
    "from network import NeuralNetwork, Sigmoid, Cost\n",
    "import utils\n",
    "\n",
    "SAVE_DIR = Path('../network_data').resolve()"
   ],
   "metadata": {
    "collapsed": false,
    "ExecuteTime": {
     "end_time": "2024-03-31T12:48:54.024640Z",
     "start_time": "2024-03-31T12:48:54.021504Z"
    }
   },
   "id": "330dfcfe514042c3",
   "execution_count": 6
  },
  {
   "cell_type": "markdown",
   "source": [
    "#### MNIST database\n",
    "Consists of 60000 training samples and 10000 testing samples with labels of 28x28 greyscale images of digits."
   ],
   "metadata": {
    "collapsed": false
   },
   "id": "f442eeba8986b64a"
  },
  {
   "cell_type": "code",
   "outputs": [
    {
     "data": {
      "text/plain": "<Figure size 2000x2000 with 5 Axes>",
      "image/png": "[encoded data removed]"
     },
     "metadata": {},
     "output_type": "display_data"
    }
   ],
   "source": [
    "# load data into memory\n",
    "resources_dir = Path('../resources').resolve()\n",
    "data = utils.load_mnist(resources_dir)\n",
    "\n",
    "# show the first five images with labels\n",
    "utils.plot_images(data.testing_images[:5], data.testing_labels_digits[:5])"
   ],
   "metadata": {
    "collapsed": false,
    "ExecuteTime": {
     "end_time": "2024-03-31T12:48:57.003811Z",
     "start_time": "2024-03-31T12:48:54.032192Z"
    }
   },
   "id": "c1eee314bba60f46",
   "execution_count": 7
  },
  {
   "cell_type": "markdown",
   "source": [
    "#### Training and testing functions\n",
    "Using minibatch method"
   ],
   "metadata": {
    "collapsed": false
   },
   "id": "5017baa9fb932ab7"
  },
  {
   "cell_type": "code",
   "outputs": [],
   "source": [
    "def train_network(network: NeuralNetwork, batches: list[tuple[NDArray, NDArray]], epochs: int, scale: float = 1.):\n",
    "    \"\"\"Trains the network using minibatch method 'epoch' number of times. Change the 'scale' input to adjust learning speed.\"\"\"\n",
    "    for _ in range(epochs):\n",
    "        for image, label in batches:\n",
    "            network.backprop_and_apply(image, label, scale)\n",
    "        \n",
    "def test_network(network: NeuralNetwork, test_images: NDArray, test_labels: NDArray, cost_tolerance: float) -> float:\n",
    "    \"\"\"\n",
    "    Tests the accuracy of the network using 'test_images' and 'test_labels'.\n",
    "    Returns the ratio between the correct outputs and all tests, so a number between 0.0 and 1.0.\n",
    "    \"\"\"\n",
    "    assert test_images.shape[0] == test_labels.shape[0]\n",
    "    num_of_tests = test_images.shape[0]\n",
    "    passed = 0\n",
    "    for i in range(num_of_tests):\n",
    "        out = network(test_images[i, :])\n",
    "        if network.cost(out, test_labels[i, :]) <= cost_tolerance:\n",
    "            passed += 1\n",
    "    return passed / num_of_tests"
   ],
   "metadata": {
    "collapsed": false,
    "ExecuteTime": {
     "end_time": "2024-03-31T12:48:57.008580Z",
     "start_time": "2024-03-31T12:48:57.005202Z"
    }
   },
   "id": "c297490ecf413f3e",
   "execution_count": 8
  },
  {
   "cell_type": "markdown",
   "source": [
    "#### Training"
   ],
   "metadata": {
    "collapsed": false
   },
   "id": "a7aff3b8df3a0607"
  },
  {
   "cell_type": "code",
   "outputs": [],
   "source": [
    "nn = NeuralNetwork.new_network((28 * 28, 16, 16, 10), Sigmoid(), Cost())\n",
    "mini_batch_size = 1000\n",
    "num_of_epochs = 500\n",
    "learning_scale = 1.\n",
    "save_to: str | None = None # 'network.npz'\n",
    "\n",
    "# create mini batches\n",
    "mini_batches = [(data.training_images[i:i+mini_batch_size, ...], data.training_labels[i:i+mini_batch_size, ...]) \n",
    "                for i in range(0, data.training_images.shape[0], mini_batch_size)]\n",
    "# training\n",
    "train_network(nn, mini_batches, num_of_epochs, scale=learning_scale)\n",
    "\n",
    "# saving to a file for later use\n",
    "if not SAVE_DIR.exists():\n",
    "    os.mkdir(SAVE_DIR)\n",
    "if save_to is not None:\n",
    "    nn.save_to_file(SAVE_DIR / save_to, overwrite=True)"
   ],
   "metadata": {
    "collapsed": false,
    "ExecuteTime": {
     "end_time": "2024-03-31T13:00:37.634670Z",
     "start_time": "2024-03-31T12:48:57.009680Z"
    }
   },
   "id": "6b94370029703cf7",
   "execution_count": 9
  },
  {
   "cell_type": "markdown",
   "source": [
    "#### Testing"
   ],
   "metadata": {
    "collapsed": false
   },
   "id": "b4e95f91ec66bb9d"
  },
  {
   "cell_type": "code",
   "outputs": [
    {
     "data": {
      "text/plain": "'The network is correct 88.8% of the time. (8875/10000)'"
     },
     "execution_count": 10,
     "metadata": {},
     "output_type": "execute_result"
    }
   ],
   "source": [
    "get_from_file = True\n",
    "if get_from_file:\n",
    "    nn = NeuralNetwork.load_from_file(SAVE_DIR / save_to, Sigmoid(), Cost())\n",
    "\n",
    "ratio = test_network(nn, data.testing_images, data.testing_labels, 0.1)\n",
    "\n",
    "f\"The network is correct {ratio * 100:.1f}% of the time. ({round(data.testing_images.shape[0] * ratio)}/{data.testing_images.shape[0]})\""
   ],
   "metadata": {
    "collapsed": false,
    "ExecuteTime": {
     "end_time": "2024-03-31T13:00:37.876927Z",
     "start_time": "2024-03-31T13:00:37.635629Z"
    }
   },
   "id": "baa099e9b5056d79",
   "execution_count": 10
  }
 ],
 "metadata": {
  "kernelspec": {
   "display_name": "Python 3",
   "language": "python",
   "name": "python3"
  },
  "language_info": {
   "codemirror_mode": {
    "name": "ipython",
    "version": 2
   },
   "file_extension": ".py",
   "mimetype": "text/x-python",
   "name": "python",
   "nbconvert_exporter": "python",
   "pygments_lexer": "ipython2",
   "version": "2.7.6"
  }
 },
 "nbformat": 4,
 "nbformat_minor": 5
}
